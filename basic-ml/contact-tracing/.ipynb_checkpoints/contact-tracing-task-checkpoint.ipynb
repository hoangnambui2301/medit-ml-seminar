{
 "cells": [
  {
   "cell_type": "code",
   "execution_count": null,
   "id": "9a47e847-e4bb-47b3-a4dc-493b32b418b6",
   "metadata": {},
   "outputs": [],
   "source": [
    "# Import neccessary libraries and tools\n",
    "import numpy as np\n",
    "import pandas as pd\n",
    "import matplotlib.pyplot as plt\n",
    "import seaborn as sns\n",
    "%matplotlib inline\n",
    "import datetime as dt\n",
    "from sklearn.cluster import DBSCAN\n",
    "import warnings \n",
    "warnings.filterwarnings('ignore')\n",
    "\n",
    "df = pd.read_json('livedata.json')"
   ]
  },
  {
   "cell_type": "code",
   "execution_count": null,
   "id": "3aa0645d-430b-4a1f-84fd-79faf3fe51c0",
   "metadata": {},
   "outputs": [],
   "source": [
    "# Have a first look at the data\n",
    "df.head()"
   ]
  },
  {
   "cell_type": "code",
   "execution_count": null,
   "id": "cbab7d30-c313-4e88-8e7d-7a397aa68c80",
   "metadata": {},
   "outputs": [],
   "source": [
    "df.tail()"
   ]
  },
  {
   "cell_type": "code",
   "execution_count": null,
   "id": "e3727294-3406-4dda-a2cb-1c49d9b57bbb",
   "metadata": {},
   "outputs": [],
   "source": [
    "df.describe()"
   ]
  },
  {
   "cell_type": "markdown",
   "id": "d6c762f5-aa39-4613-94d8-007216c3232a",
   "metadata": {},
   "source": [
    "### Let's visualize the data in a scatter plot using Seaborn\n",
    "Requirements:\n",
    "- Figure size of 8x6\n",
    "- x-axis is 'latitute' and y-axis is 'longitude'\n",
    "- Legend by 'id"
   ]
  },
  {
   "cell_type": "code",
   "execution_count": null,
   "id": "98e2c928-3385-44ee-a2f9-4cd1ca42f4f9",
   "metadata": {},
   "outputs": [],
   "source": [
    "'''\n",
    "Visualize the data by scatter plot\n",
    "'''\n",
    "# Please fill your answer in '...'\n",
    "plt.figure(figsize=(...))\n",
    "sns.scatterplot(data=..., x=..., y=..., hue=...)\n",
    "plt.legend(bbox_to_anchor=[1, 0.8])\n",
    "plt.show()"
   ]
  },
  {
   "cell_type": "markdown",
   "id": "081eca3f-329e-4686-a128-01dd0508e564",
   "metadata": {},
   "source": [
    "# DBSCAN (**D**ensity-**B**ased **S**patial **C**lustering of **A**pplications with **N**oise)\n",
    "Before going to the main model, we want you to have a fundamental view about the algorithm. DBSCAN is a popular **unsupervised** learning method utilized in model building and machine learning algorithms. in machine learning, unsupervised learning aims to identify patterns in data sets containing data points that are neither classified nor labeled. Indeed, clustering is one of the main concern of unsupervised learning problems. \n",
    "**DBSCAN** is a clustering algorithm specified for seeking areas in the data that have a high density of observation versus areas that are sparse with observations. DBSCAN works with these rules:\n",
    "- Divides the dataset into n dimensions\n",
    "- For each point in the dataset, DBSCAN forms an n dimensional shape around that data point, and then counts how many data points fall within that shape.\n",
    "- DBSCAN counts this shape as a cluster. DBSCAN iteratively expands the cluster, by going through each individual point within the cluster, and counting the number of other data points nearby. Take the graphic below for an example:\n",
    "<!-- ![image.png](attachment:1ee0125c-ad99-42d3-aae4-e9a1b7af5039.png) -->\n",
    "<img src=\"https://miro.medium.com/max/2000/1*zbm_3K647rvNDmgL6HWUNQ.png\" alt=\"Drawing\" style=\"width:70%;\">\n",
    "\n",
    "After DBSCAN has done so, it will start at a random point (in this case lets assume it was one of the red points), and it will count how many other points are nearby. DBSCAN will continue this process until no other data points are nearby, and then it will look to form a second cluster. \n",
    "There are a couple parameters and specifications that we need to give DBSCAN before it does its work. These are: \n",
    "- eps: the maximum distance between two samples for one to be considered as in the neighborhood of the other.\n",
    "- min_samples: the number of samples (or total weight) in a neighborhood for a point to be considered as a core point. This includes the point itself.\n",
    "- metric: the metric to use when calculating distance between instances in a feature array."
   ]
  },
  {
   "cell_type": "markdown",
   "id": "d7cb5dfc-e567-41f1-bad4-59a57017541d",
   "metadata": {},
   "source": [
    "### Define the model\n",
    "Let's define the model using DBSCAN algorithm. In this case:\n",
    "- We want to trace the person who has the close contact of 6 feet (1.8288 meters) with the infected patient.\n",
    "- For each cluster, there are minimum of 2 samples to be formed.\n",
    "- The utilized metric is 'haversine'."
   ]
  },
  {
   "cell_type": "code",
   "execution_count": null,
   "id": "264d992d-4347-46c8-98c2-8dd9619e9719",
   "metadata": {},
   "outputs": [],
   "source": [
    "# Please fill your answer in '...' \n",
    "model = DBSCAN(eps=..., min_samples=..., metric=...).fit(df[['latitude', 'longitude']])"
   ]
  },
  {
   "cell_type": "markdown",
   "id": "e1b8adf1-57df-488c-b5a8-eb02fb5643bd",
   "metadata": {},
   "source": [
    "### Plot the model with legend by 'cluster'"
   ]
  },
  {
   "cell_type": "code",
   "execution_count": null,
   "id": "08910768-1fa0-41e0-963b-c2b184070ac9",
   "metadata": {},
   "outputs": [],
   "source": [
    "labels = model.labels_\n",
    "fig = plt.figure(figsize=(8,6))\n",
    "sns.scatterplot(df['latitude'], df['longitude'], hue = ['cluster {}'.format(x) for x in labels])\n",
    "plt.legend(bbox_to_anchor = [1, 1])\n",
    "plt.show()"
   ]
  },
  {
   "cell_type": "markdown",
   "id": "54449b30-837e-48f2-bfee-19c3f4a75d32",
   "metadata": {},
   "source": [
    "# Tracing infected people\n",
    "Let's find people who have close contact with the infected patient. In this case we’ll define the function 'get_infected_names' whose the input is an infected patient:"
   ]
  },
  {
   "cell_type": "code",
   "execution_count": null,
   "id": "ea779d7f-cea5-4f45-b476-a4748a5327f1",
   "metadata": {},
   "outputs": [],
   "source": [
    "'''\n",
    "Define the function to trace the infected persons\n",
    "'''\n",
    "# Please fill your answer in '...'\n",
    "def get_infected_names():   \n",
    "    infected_name = input()\n",
    "    while (infected_name not in df['id'].tolist()):\n",
    "        print('No name found! Please do again!')\n",
    "        infected_name = input()\n",
    "        \n",
    "    df['cluster'] = model.labels_.tolist()\n",
    "    infected_name_clusters = [] \n",
    "    \n",
    "    '''\n",
    "    Try to find out which cluster does the input name belong to:\n",
    "    - Step 1: Go through the list of cluster and find out all the cluster that the infected name belong to.\n",
    "    - Step 2: Check the infected_name_cluster list whether those clusters are included or not.\n",
    "    '''\n",
    "    for i in range(...):\n",
    "        if ...:\n",
    "            if ...\n",
    "                pass\n",
    "            else:\n",
    "                ...\n",
    "           \n",
    "    '''\n",
    "    Try to find out the persons who have close contact with the infected patient:\n",
    "    - Step 1: Find out the id (name) that belong to each cluster in infected_name_clusters.\n",
    "    - Step 2: Add these names ((!)different from infected_name (!)) to the infected list.\n",
    "    '''\n",
    "    infected_list = []\n",
    "    for cluster in infected_name_clusters:\n",
    "        if cluster != -1: # not belong to any valid cluster \n",
    "            ids_in_cluster = df.loc[..., ...]\n",
    "            for i in range (...):\n",
    "                member_id = ids_in_cluster.iloc[...]\n",
    "                if (member_id not in infected_list) and (...):\n",
    "                    ...\n",
    "                else:\n",
    "                    pass\n",
    "                \n",
    "    return infected_list"
   ]
  },
  {
   "cell_type": "code",
   "execution_count": null,
   "id": "84b0868c-c99a-41cd-9717-4d7bbee71951",
   "metadata": {},
   "outputs": [],
   "source": []
  }
 ],
 "metadata": {
  "kernelspec": {
   "display_name": "Python 3",
   "language": "python",
   "name": "python3"
  },
  "language_info": {
   "codemirror_mode": {
    "name": "ipython",
    "version": 3
   },
   "file_extension": ".py",
   "mimetype": "text/x-python",
   "name": "python",
   "nbconvert_exporter": "python",
   "pygments_lexer": "ipython3",
   "version": "3.9.5"
  }
 },
 "nbformat": 4,
 "nbformat_minor": 5
}
