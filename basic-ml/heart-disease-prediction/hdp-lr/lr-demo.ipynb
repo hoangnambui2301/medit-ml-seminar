{
 "cells": [
  {
   "cell_type": "code",
   "execution_count": 1,
   "id": "2cc8ab94-7cc2-47a6-bd32-184192524dc4",
   "metadata": {},
   "outputs": [],
   "source": [
    "# imports\n",
    "import numpy as np\n",
    "import matplotlib.pyplot as plt\n",
    "import pandas as pd\n",
    "from scipy.optimize import fmin_tnc\n",
    "import warnings\n",
    "warnings.filterwarnings('ignore')"
   ]
  },
  {
   "cell_type": "code",
   "execution_count": 2,
   "id": "d0951207-f5d5-4837-9c2c-3486c50fc07b",
   "metadata": {},
   "outputs": [
    {
     "data": {
      "image/png": "[encoded data removed]",
      "text/plain": [
       "<Figure size 432x288 with 1 Axes>"
      ]
     },
     "metadata": {
      "needs_background": "light"
     },
     "output_type": "display_data"
    }
   ],
   "source": [
    "def load_data(path, header):\n",
    "    marks_df = pd.read_csv(path, header=header)\n",
    "    return marks_df\n",
    "\n",
    "\n",
    "if __name__ == \"__main__\":\n",
    "    # load the data from the file\n",
    "    data = load_data(\"marks.txt\", None)\n",
    "\n",
    "    # X = feature values, all the columns except the last column\n",
    "    X = data.iloc[:, :-1]\n",
    "\n",
    "    # y = target values, last column of the data frame\n",
    "    y = data.iloc[:, -1]\n",
    "\n",
    "    # filter out the applicants that got admitted\n",
    "    admitted = data.loc[y == 1]\n",
    "\n",
    "    # filter out the applicants that didn't get admission\n",
    "    not_admitted = data.loc[y == 0]\n",
    "\n",
    "    # plots\n",
    "    plt.scatter(admitted.iloc[:, 0], admitted.iloc[:, 1], s=10, label='Admitted')\n",
    "    plt.scatter(not_admitted.iloc[:, 0], not_admitted.iloc[:, 1], s=10, label='Not Admitted')\n",
    "    plt.legend()\n",
    "    plt.show()"
   ]
  },
  {
   "cell_type": "code",
   "execution_count": 3,
   "id": "9538300e-84c8-4cee-9183-0233fc9d73fc",
   "metadata": {},
   "outputs": [],
   "source": [
    "X = np.c_[np.ones((X.shape[0], 1)), X]\n",
    "y = y[:, np.newaxis]\n",
    "theta = np.zeros((X.shape[1], 1))"
   ]
  },
  {
   "cell_type": "code",
   "execution_count": 4,
   "id": "bd40165a-c035-4742-8767-7507a13a71ef",
   "metadata": {},
   "outputs": [],
   "source": [
    "def sigmoid(x):\n",
    "    # Activation function used to map any real value between 0 and 1\n",
    "    return 1 / (1 + np.exp(-x))\n",
    "\n",
    "def net_input(theta, x):\n",
    "    # Computes the weighted sum of inputs\n",
    "    return np.dot(x, theta)\n",
    "\n",
    "def probability(theta, x):\n",
    "    # Returns the probability after passing through sigmoid\n",
    "    return sigmoid(net_input(theta, x))"
   ]
  },
  {
   "cell_type": "code",
   "execution_count": 5,
   "id": "2f7487f9-bc62-4379-a1c1-865d8322014b",
   "metadata": {},
   "outputs": [],
   "source": [
    "def cost_function(theta, x, y):\n",
    "    # Computes the cost function for all the training samples\n",
    "    m = x.shape[0]\n",
    "    total_cost = -(1 / m) * np.sum(\n",
    "        y * np.log(probability(theta, x)) + (1 - y) * np.log(\n",
    "            1 - probability(theta, x)))\n",
    "    return total_cost\n",
    "\n",
    "def gradient(theta, x, y):\n",
    "    # Computes the gradient of the cost function at the point theta\n",
    "    m = x.shape[0]\n",
    "    return (1 / m) * np.dot(x.T, sigmoid(net_input(theta,   x)) - y)"
   ]
  },
  {
   "cell_type": "code",
   "execution_count": 6,
   "id": "84cda8d7-9d6e-4808-ab1d-a6e952d522b5",
   "metadata": {},
   "outputs": [
    {
     "data": {
      "text/plain": [
       "array([-25.16131863,   0.20623159,   0.20147149])"
      ]
     },
     "execution_count": 6,
     "metadata": {},
     "output_type": "execute_result"
    }
   ],
   "source": [
    "def fit(x, y, theta):\n",
    "    opt_weights = fmin_tnc(func=cost_function, x0=theta, fprime=gradient,\n",
    "                            args=(x, y.flatten()))\n",
    "    return opt_weights[0]\n",
    "\n",
    "parameters = fit(X, y, theta)\n",
    "parameters"
   ]
  },
  {
   "cell_type": "code",
   "execution_count": 7,
   "id": "e14294e7-7b5a-4e19-8254-f3f1beeea465",
   "metadata": {},
   "outputs": [
    {
     "data": {
      "image/png": "[encoded data removed]",
      "text/plain": [
       "<Figure size 432x288 with 1 Axes>"
      ]
     },
     "metadata": {
      "needs_background": "light"
     },
     "output_type": "display_data"
    }
   ],
   "source": [
    "x_values = [np.min(X[:, 1] - 5), np.max(X[:, 2] + 5)]\n",
    "y_values = - (parameters[0] + np.dot(parameters[1], x_values)) / parameters[2]\n",
    "\n",
    "plt.scatter(admitted.iloc[:, 0], admitted.iloc[:, 1], s=10)\n",
    "plt.scatter(not_admitted.iloc[:, 0], not_admitted.iloc[:, 1], s=10)\n",
    "plt.plot(x_values, y_values)\n",
    "plt.show()"
   ]
  },
  {
   "cell_type": "code",
   "execution_count": 8,
   "id": "9748e484-b1a0-4b62-8dff-520fe3b64c3b",
   "metadata": {},
   "outputs": [
    {
     "data": {
      "text/plain": [
       "89.0"
      ]
     },
     "execution_count": 8,
     "metadata": {},
     "output_type": "execute_result"
    }
   ],
   "source": [
    "def predict(x):\n",
    "    theta = parameters[:, np.newaxis]\n",
    "    return probability(theta, x)\n",
    "def accuracy(x, actual_classes, probab_threshold=0.5):\n",
    "    predicted_classes = (predict(x) >= \n",
    "                         probab_threshold).astype(int)\n",
    "    predicted_classes = predicted_classes.flatten()\n",
    "    accuracy = np.mean(predicted_classes == actual_classes)\n",
    "    return accuracy * 100\n",
    "accuracy(X, y.flatten())"
   ]
  },
  {
   "cell_type": "markdown",
   "id": "26784af8-9fe0-4714-a492-6fc114d19f81",
   "metadata": {},
   "source": [
    "#### Scitkit Learn implementation"
   ]
  },
  {
   "cell_type": "code",
   "execution_count": 12,
   "id": "4bd3c4f3-2734-40f3-82d5-3fc56526edc5",
   "metadata": {},
   "outputs": [
    {
     "name": "stdout",
     "output_type": "stream",
     "text": [
      "The accuracy score using scikit-learn is 0.89\n",
      "The model parameters using scikit learn\n",
      "[[-4.19885872e-08  2.05354461e-01  2.00583554e-01]]\n"
     ]
    }
   ],
   "source": [
    "from sklearn.linear_model import LogisticRegression \n",
    "from sklearn.metrics import accuracy_score \n",
    "\n",
    "model = LogisticRegression()\n",
    "model.fit(X, y)\n",
    "parameters = model.coef_\n",
    "predicted_classes = model.predict(X)\n",
    "accuracy = accuracy_score(y.flatten(),predicted_classes)\n",
    "print('The accuracy score using scikit-learn is {}'.format(accuracy))\n",
    "print(\"The model parameters using scikit learn\")\n",
    "print(parameters)"
   ]
  },
  {
   "cell_type": "code",
   "execution_count": null,
   "id": "08990399-0199-469c-a6e3-2d02680d0892",
   "metadata": {},
   "outputs": [],
   "source": []
  }
 ],
 "metadata": {
  "kernelspec": {
   "display_name": "Python 3",
   "language": "python",
   "name": "python3"
  },
  "language_info": {
   "codemirror_mode": {
    "name": "ipython",
    "version": 3
   },
   "file_extension": ".py",
   "mimetype": "text/x-python",
   "name": "python",
   "nbconvert_exporter": "python",
   "pygments_lexer": "ipython3",
   "version": "3.9.5"
  }
 },
 "nbformat": 4,
 "nbformat_minor": 5
}
