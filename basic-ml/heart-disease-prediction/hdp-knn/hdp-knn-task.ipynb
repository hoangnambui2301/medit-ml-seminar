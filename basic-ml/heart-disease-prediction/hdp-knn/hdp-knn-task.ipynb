{
 "cells": [
  {
   "cell_type": "code",
   "execution_count": null,
   "id": "c6bc337c-ad48-4656-ade0-ea39bcead6f5",
   "metadata": {},
   "outputs": [],
   "source": [
    "# Import neccessary libraries and tools\n",
    "import numpy as np\n",
    "import pandas as pd\n",
    "import matplotlib.pyplot as plt\n",
    "from matplotlib import rcParams\n",
    "import seaborn as sns\n",
    "import warnings\n",
    "warnings.filterwarnings('ignore')\n",
    "\n",
    "df = pd.read_csv('heart.csv')"
   ]
  },
  {
   "cell_type": "code",
   "execution_count": null,
   "id": "ad602191-5865-46e8-955e-c308355c47a5",
   "metadata": {},
   "outputs": [],
   "source": [
    "# Have a first look at the data\n",
    "df.head()"
   ]
  },
  {
   "cell_type": "code",
   "execution_count": null,
   "id": "c765ee29-ce66-48f4-adec-74dbd084118a",
   "metadata": {},
   "outputs": [],
   "source": [
    "df.tail()"
   ]
  },
  {
   "cell_type": "code",
   "execution_count": null,
   "id": "e6a0fca5-eb32-41a6-83e9-a472c2daefc5",
   "metadata": {},
   "outputs": [],
   "source": [
    "df.describe()"
   ]
  },
  {
   "cell_type": "markdown",
   "id": "06b6f538-b324-4494-b2ab-fe7a32c9db10",
   "metadata": {},
   "source": [
    "### Classification of data types\n",
    "Before going to any training, we should classify the types of data into two different kinds: 'categorical_val' for whose the unique data is less than 10 different values (e.g. age, sex...) and 'continuous_val' vice versa."
   ]
  },
  {
   "cell_type": "code",
   "execution_count": null,
   "id": "0f1e3c59-8213-48a4-bd10-ed01bc97171e",
   "metadata": {},
   "outputs": [],
   "source": [
    "# Please fill your answer in '...'\n",
    "categorical_val = []\n",
    "continuous_val = []\n",
    "for col in ...:\n",
    "    if ...:\n",
    "        ...\n",
    "    else:\n",
    "        ..."
   ]
  },
  {
   "cell_type": "markdown",
   "id": "2e7beb24-6fe8-43c8-9b61-37bcd7284c62",
   "metadata": {},
   "source": [
    "### Create dummies and scale data\n",
    "After exploring the dataset, we need to convert some categorical variables into dummy variables and scale all the values before training the models."
   ]
  },
  {
   "cell_type": "code",
   "execution_count": null,
   "id": "8f95baba-eca8-4118-b666-0f4444a2288a",
   "metadata": {},
   "outputs": [],
   "source": [
    "'''\n",
    "Create dummies\n",
    "'''\n",
    "# Please fill your answer in '...'\n",
    "categorical_val.remove('target')\n",
    "dataset = pd.get_dummies(..., columns=...)\n",
    "dataset.head()"
   ]
  },
  {
   "cell_type": "code",
   "execution_count": null,
   "id": "93852af5-7a50-42a7-b7ad-660d85925bf6",
   "metadata": {},
   "outputs": [],
   "source": [
    "'''\n",
    "Scale the values\n",
    "- Set the array of columns to scale.\n",
    "'''\n",
    "# Please fill your answer in '...'\n",
    "from sklearn.preprocessing import StandardScaler\n",
    "\n",
    "s_sc = StandardScaler()\n",
    "col_to_scale = ...\n",
    "dataset[col_to_scale] = s_sc.fit_transform(dataset[col_to_scale])\n",
    "dataset.head()"
   ]
  },
  {
   "cell_type": "markdown",
   "id": "34d0001e-cc6f-4614-a5f4-7e0c6fc0bb8e",
   "metadata": {},
   "source": [
    "#### Define function to print the accuracy score "
   ]
  },
  {
   "cell_type": "code",
   "execution_count": null,
   "id": "75df7885-7c9c-42b8-be00-f998d1f88743",
   "metadata": {},
   "outputs": [],
   "source": [
    "from sklearn.metrics import accuracy_score, confusion_matrix, classification_report\n",
    "\n",
    "def print_score(clf, x_train, y_train, x_test, y_test, train):\n",
    "    if train == True:\n",
    "        pred = clf.predict(x_train)\n",
    "        clf_report = pd.DataFrame(classification_report(y_train, pred, output_dict=True))\n",
    "        print(f'Accuracy Score: {accuracy_score(y_train, pred) * 100:.4f}%')\n",
    "        print('______________________________________________________________________')\n",
    "        print(f'Classification Report:\\n{clf_report}')\n",
    "#         print('______________________________________________________________________')\n",
    "#         print(f'Confusion Matrix: \\n {confusion_matrix(y_train, pred)}\\n')\n",
    "    elif train == False:\n",
    "        pred = clf.predict(x_test)\n",
    "        clf_report = pd.DataFrame(classification_report(y_test, pred, output_dict=True))\n",
    "        print(f'Accuracy Score: {accuracy_score(y_test, pred) * 100:.4f}%')\n",
    "        print('______________________________________________________________________')\n",
    "        print(f'Classification Report:\\n{clf_report}')\n",
    "#         print('______________________________________________________________________')\n",
    "#         print(f'Confusion Matrix: \\n {confusion_matrix(y_test, pred)}\\n')"
   ]
  },
  {
   "cell_type": "markdown",
   "id": "076f7884-11c7-4ac2-aa3e-4f5f833b9c80",
   "metadata": {},
   "source": [
    "### Dataset splitting\n",
    "Split the dataset into training (70%) and test set (30%)"
   ]
  },
  {
   "cell_type": "code",
   "execution_count": null,
   "id": "4a4c4817-5d7b-46e2-a8a0-a27516bf5026",
   "metadata": {},
   "outputs": [],
   "source": [
    "'''\n",
    "use train_test_split(data, target, test_size, random)\n",
    "'''\n",
    "# Please fill your answer in '...'\n",
    "from sklearn.model_selection import train_test_split\n",
    "\n",
    "x = dataset.drop('target', axis=1)\n",
    "y = dataset.target\n",
    "x_train, x_test, y_train, y_test = train_test_split(..., ..., test_size=..., random_state=...)"
   ]
  },
  {
   "cell_type": "markdown",
   "id": "49877255-3014-4058-9e91-658721869879",
   "metadata": {},
   "source": [
    "# K-nearest neighbors (KNN)\n",
    "The KNN is one of the simplest supervised learning (and sometimes, is effective) for both classification and regression problems. The KNN algorithm assumes that similar things exist in close proximity.\n",
    "### The KNN algorithm step-by-step\n",
    "1. Load the data.\n",
    "2. Initilize K to your chosen number of neighbors.\n",
    "3. For each example (data point) in the data:\n",
    "    - Calculate the disance between the query example and the current example from the data.\n",
    "    - Add the distance and the index of the example to an ordered collection.\n",
    "4. Sort the ordered collection of distances and indices in ascending order by the distances.\n",
    "5. Pick the first K entries from the sorted collection.\n",
    "6. Get the labels of the selected K entries.\n",
    "7. If regression, return the mean of the K labels; otherwise, return the mode of the K labels.\n",
    "\n",
    "| ![](http://res.cloudinary.com/dyd911kmh/image/upload/f_auto,q_auto:best/v1531424125/KNN_final1_ibdm8a.png) |\n",
    "|:--:|\n",
    "| <b>K-nearest neighbors</b> |\n"
   ]
  },
  {
   "cell_type": "markdown",
   "id": "e699d4e3-5b0b-4a7f-83e0-b3c0491aa268",
   "metadata": {},
   "source": [
    "## Training KNN model"
   ]
  },
  {
   "cell_type": "code",
   "execution_count": null,
   "id": "a0622cde-7a9c-47e0-a34f-ab7141b8ba04",
   "metadata": {},
   "outputs": [],
   "source": [
    "'''\n",
    "Training KNN model with Scikit Learn\n",
    "- By default, the number of neighbors n_neighbors is 5.\n",
    "'''\n",
    "# Please fill your answer in '...'\n",
    "from sklearn.neighbors import KNeighborsClassifier\n",
    "\n",
    "knn_clf = KNeighborsClassifier().fit(..., ...)"
   ]
  },
  {
   "cell_type": "code",
   "execution_count": null,
   "id": "762354a2-3da1-4cfc-a2c3-bdbf8ac272c2",
   "metadata": {},
   "outputs": [],
   "source": [
    "print_score(knn_clf, x_train, y_train, x_test, y_test, train=True)"
   ]
  },
  {
   "cell_type": "code",
   "execution_count": null,
   "id": "162b70ae-277c-4cf9-b20c-e721b114a414",
   "metadata": {
    "tags": []
   },
   "outputs": [],
   "source": [
    "print_score(knn_clf, x_train, y_train, x_test, y_test, train=False)"
   ]
  },
  {
   "cell_type": "markdown",
   "id": "670ae4eb-3000-46d7-a35c-c257731ae362",
   "metadata": {},
   "source": [
    "## Improve the KNN model\n",
    "In this part we will test the KNN model with different number of neighbors to find the best one. "
   ]
  },
  {
   "cell_type": "code",
   "execution_count": null,
   "id": "3a622d26-e93a-4ceb-a789-deff89b00c4b",
   "metadata": {},
   "outputs": [],
   "source": [
    "'''\n",
    "Put the KNN model into a 'for' loop of number of neighbors.\n",
    "'''\n",
    "# Please fill your answer in '...'\n",
    "train_score = []\n",
    "test_score = []\n",
    "neighbors = range(1, 30)\n",
    "\n",
    "for ...:\n",
    "    model = KNeighborsClassifier(...).fit(..., ...)\n",
    "    train_score.append(accuracy_score(y_train, model.predict(x_train)))\n",
    "#     test_score.append(accuracy_score(y_test, model.predict(x_test)))"
   ]
  },
  {
   "cell_type": "code",
   "execution_count": null,
   "id": "0fb51704-f87e-407f-a000-232e9a0c0b33",
   "metadata": {},
   "outputs": [],
   "source": [
    "# Plot the model results\n",
    "plt.figure(figsize=(8,6))\n",
    "\n",
    "plt.plot(neighbors, train_score, label=\"Train score\")\n",
    "# plt.plot(neighbors, test_score, label=\"Test score\")\n",
    "plt.xticks(np.arange(1, 21, 1))\n",
    "plt.xlabel(\"Number of neighbors\")\n",
    "plt.ylabel(\"Model score\")\n",
    "plt.legend()\n",
    "\n",
    "print(f\"Maximum KNN score on the test data: {max(train_score)*100:.2f}%\")"
   ]
  },
  {
   "cell_type": "code",
   "execution_count": null,
   "id": "abc4dc3a-71e6-4e3e-bae1-692851f3a16b",
   "metadata": {},
   "outputs": [],
   "source": [
    "'''\n",
    "Use the best number of neighbors to train KNN model.\n",
    "'''\n",
    "knn_clf_tuning = KNeighborsClassifier(n_neighbors=...).fit(..., ...)"
   ]
  },
  {
   "cell_type": "code",
   "execution_count": null,
   "id": "b1c5524b-1842-43a3-804e-89336c53701b",
   "metadata": {},
   "outputs": [],
   "source": [
    "print_score(knn_clf_tuning, x_train, y_train, x_test, y_test, train=True)"
   ]
  },
  {
   "cell_type": "code",
   "execution_count": null,
   "id": "1433f956-40fc-41ef-acbf-9ba5730bd923",
   "metadata": {},
   "outputs": [],
   "source": [
    "print_score(knn_clf_tuning, x_train, y_train, x_test, y_test, train=False)"
   ]
  },
  {
   "cell_type": "code",
   "execution_count": null,
   "id": "d5f796cf-1b91-4932-b743-16d8f87c170c",
   "metadata": {},
   "outputs": [],
   "source": [
    "'''\n",
    "Summarize the accuracy score of KNN models with and without modifying number of neighbors.\n",
    "'''\n",
    "# Please fill your answer in '...'\n",
    "knn_clf_test = accuracy_score(y_test, knn_clf.predict(x_test)) * 100\n",
    "knn_clf_train = accuracy_score(y_train, knn_clf.predict(x_train)) * 100\n",
    "knn_clf_tuning_test = ...\n",
    "knn_clf_tuning_train = ...\n",
    "\n",
    "result = pd.DataFrame(columns=['Model', 'Non-tuning train accuracy %', 'Tuning train accuracy %', 'Non-tuning test accuracy %', 'Tuning test accuracy %'])\n",
    "knn_result = pd.DataFrame(data=[['K-nearest neighbors', ..., ..., ..., ...]],\n",
    "                        columns=['Model', 'Non-tuning train accuracy %', 'Tuning train accuracy %', 'Non-tuning test accuracy %', 'Tuning test accuracy %'])\n",
    "result = result.append(knn_result, ignore_index=True)\n",
    "result"
   ]
  },
  {
   "cell_type": "code",
   "execution_count": null,
   "id": "85c4d89e-2e23-4b08-be85-48d15f42466c",
   "metadata": {},
   "outputs": [],
   "source": []
  }
 ],
 "metadata": {
  "kernelspec": {
   "display_name": "Python 3",
   "language": "python",
   "name": "python3"
  },
  "language_info": {
   "codemirror_mode": {
    "name": "ipython",
    "version": 3
   },
   "file_extension": ".py",
   "mimetype": "text/x-python",
   "name": "python",
   "nbconvert_exporter": "python",
   "pygments_lexer": "ipython3",
   "version": "3.9.5"
  }
 },
 "nbformat": 4,
 "nbformat_minor": 5
}
