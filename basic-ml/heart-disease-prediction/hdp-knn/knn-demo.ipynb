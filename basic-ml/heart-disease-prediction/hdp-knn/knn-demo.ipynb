{
 "cells": [
  {
   "cell_type": "code",
   "execution_count": null,
   "id": "ff2f881b-e954-4dba-8951-b757caee4d43",
   "metadata": {},
   "outputs": [],
   "source": [
    "import numpy as np\n",
    "import matplotlib.pyplot as plt\n",
    "from sklearn import neighbors, datasets"
   ]
  },
  {
   "cell_type": "code",
   "execution_count": null,
   "id": "c7ec607c-22eb-4f95-a41a-1b09b04200f5",
   "metadata": {},
   "outputs": [],
   "source": [
    "iris = datasets.load_iris()\n",
    "iris_X = iris.data\n",
    "iris_y = iris.target\n",
    "print ('Number of classes: %d' %len(np.unique(iris_y)))\n",
    "print ('Number of data points: %d' %len(iris_y))\n",
    "\n",
    "\n",
    "X0 = iris_X[iris_y == 0,:]\n",
    "print ('\\nSamples from class 0:\\n', X0[:5,:])\n",
    "\n",
    "X1 = iris_X[iris_y == 1,:]\n",
    "print ('\\nSamples from class 1:\\n', X1[:5,:])\n",
    "\n",
    "X2 = iris_X[iris_y == 2,:]\n",
    "print ('\\nSamples from class 2:\\n', X2[:5,:])"
   ]
  },
  {
   "cell_type": "code",
   "execution_count": null,
   "id": "fa9e06d3-f3c1-4b38-959c-1ca8d0e89875",
   "metadata": {},
   "outputs": [],
   "source": [
    "from sklearn.model_selection import train_test_split\n",
    "X_train, X_test, y_train, y_test = train_test_split(\n",
    "     iris_X, iris_y, test_size=50)\n",
    "\n",
    "print ('Training size: %d' %len(y_train))\n",
    "print ('Test size    : %d' %len(y_test))"
   ]
  },
  {
   "cell_type": "code",
   "execution_count": null,
   "id": "23df4d3d-cae7-4ec0-815d-6abfffcae206",
   "metadata": {},
   "outputs": [],
   "source": [
    "clf1 = neighbors.KNeighborsClassifier(n_neighbors = 1, p = 2)\n",
    "clf1.fit(X_train, y_train)\n",
    "y_pred1 = clf1.predict(X_test)\n",
    "\n",
    "print ('Print results for 20 test data points:')\n",
    "print ('Predicted labels: ', y_pred1[20:40])\n",
    "print ('Ground truth    : ', y_test[20:40])"
   ]
  },
  {
   "cell_type": "code",
   "execution_count": null,
   "id": "98dbbba3-acfc-4ef6-98c4-a175844ca355",
   "metadata": {},
   "outputs": [],
   "source": [
    "from sklearn.metrics import accuracy_score\n",
    "print ('Accuracy of 1NN: %.2f %%' %(100*accuracy_score(y_test, y_pred1)))"
   ]
  },
  {
   "cell_type": "code",
   "execution_count": null,
   "id": "fade93a0-64fb-44ee-bfba-5a541da7d8f5",
   "metadata": {},
   "outputs": [],
   "source": [
    "clf2 = neighbors.KNeighborsClassifier(n_neighbors = 10, p = 2)\n",
    "clf2.fit(X_train, y_train)\n",
    "y_pred2 = clf2.predict(X_test)\n",
    "\n",
    "print ('Accuracy of 10NN: %.2f %%' %(100*accuracy_score(y_test, y_pred2)))"
   ]
  },
  {
   "cell_type": "code",
   "execution_count": null,
   "id": "4e33a62a-e05f-4a75-aa3c-9c78aca70023",
   "metadata": {},
   "outputs": [],
   "source": [
    "clf3 = neighbors.KNeighborsClassifier(n_neighbors = 10, p = 2, weights = 'distance')\n",
    "clf3.fit(X_train, y_train)\n",
    "y_pred3 = clf3.predict(X_test)\n",
    "\n",
    "print ('Accuracy of 10NN (1/distance weights): %.2f %%' %(100*accuracy_score(y_test, y_pred3)))"
   ]
  },
  {
   "cell_type": "code",
   "execution_count": null,
   "id": "ab8c4657-2e3b-4164-a325-b7df4386ca68",
   "metadata": {},
   "outputs": [],
   "source": []
  }
 ],
 "metadata": {
  "kernelspec": {
   "display_name": "Python 3",
   "language": "python",
   "name": "python3"
  },
  "language_info": {
   "codemirror_mode": {
    "name": "ipython",
    "version": 3
   },
   "file_extension": ".py",
   "mimetype": "text/x-python",
   "name": "python",
   "nbconvert_exporter": "python",
   "pygments_lexer": "ipython3",
   "version": "3.9.5"
  }
 },
 "nbformat": 4,
 "nbformat_minor": 5
}
