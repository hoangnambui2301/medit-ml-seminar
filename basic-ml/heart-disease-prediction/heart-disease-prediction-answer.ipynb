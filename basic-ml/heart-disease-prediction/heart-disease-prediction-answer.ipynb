{
 "cells": [
  {
   "cell_type": "code",
   "execution_count": 1,
   "id": "d30507c8-4bfd-4561-be07-d6989aa81fdf",
   "metadata": {},
   "outputs": [],
   "source": [
    "import numpy as np\n",
    "import pandas as pd\n",
    "import matplotlib.pyplot as plt\n",
    "from matplotlib import rcParams\n",
    "import seaborn as sns\n",
    "import warnings\n",
    "warnings.filterwarnings('ignore')"
   ]
  },
  {
   "cell_type": "code",
   "execution_count": 2,
   "id": "02c8c3cf-278a-4fa4-9f46-27089d83e034",
   "metadata": {},
   "outputs": [
    {
     "data": {
      "text/html": [
       "<div>\n",
       "<style scoped>\n",
       "    .dataframe tbody tr th:only-of-type {\n",
       "        vertical-align: middle;\n",
       "    }\n",
       "\n",
       "    .dataframe tbody tr th {\n",
       "        vertical-align: top;\n",
       "    }\n",
       "\n",
       "    .dataframe thead th {\n",
       "        text-align: right;\n",
       "    }\n",
       "</style>\n",
       "<table border=\"1\" class=\"dataframe\">\n",
       "  <thead>\n",
       "    <tr style=\"text-align: right;\">\n",
       "      <th></th>\n",
       "      <th>age</th>\n",
       "      <th>sex</th>\n",
       "      <th>cp</th>\n",
       "      <th>trestbps</th>\n",
       "      <th>chol</th>\n",
       "      <th>fbs</th>\n",
       "      <th>restecg</th>\n",
       "      <th>thalach</th>\n",
       "      <th>exang</th>\n",
       "      <th>oldpeak</th>\n",
       "      <th>slope</th>\n",
       "      <th>ca</th>\n",
       "      <th>thal</th>\n",
       "      <th>target</th>\n",
       "    </tr>\n",
       "  </thead>\n",
       "  <tbody>\n",
       "    <tr>\n",
       "      <th>0</th>\n",
       "      <td>63</td>\n",
       "      <td>1</td>\n",
       "      <td>3</td>\n",
       "      <td>145</td>\n",
       "      <td>233</td>\n",
       "      <td>1</td>\n",
       "      <td>0</td>\n",
       "      <td>150</td>\n",
       "      <td>0</td>\n",
       "      <td>2.3</td>\n",
       "      <td>0</td>\n",
       "      <td>0</td>\n",
       "      <td>1</td>\n",
       "      <td>1</td>\n",
       "    </tr>\n",
       "    <tr>\n",
       "      <th>1</th>\n",
       "      <td>37</td>\n",
       "      <td>1</td>\n",
       "      <td>2</td>\n",
       "      <td>130</td>\n",
       "      <td>250</td>\n",
       "      <td>0</td>\n",
       "      <td>1</td>\n",
       "      <td>187</td>\n",
       "      <td>0</td>\n",
       "      <td>3.5</td>\n",
       "      <td>0</td>\n",
       "      <td>0</td>\n",
       "      <td>2</td>\n",
       "      <td>1</td>\n",
       "    </tr>\n",
       "    <tr>\n",
       "      <th>2</th>\n",
       "      <td>41</td>\n",
       "      <td>0</td>\n",
       "      <td>1</td>\n",
       "      <td>130</td>\n",
       "      <td>204</td>\n",
       "      <td>0</td>\n",
       "      <td>0</td>\n",
       "      <td>172</td>\n",
       "      <td>0</td>\n",
       "      <td>1.4</td>\n",
       "      <td>2</td>\n",
       "      <td>0</td>\n",
       "      <td>2</td>\n",
       "      <td>1</td>\n",
       "    </tr>\n",
       "    <tr>\n",
       "      <th>3</th>\n",
       "      <td>56</td>\n",
       "      <td>1</td>\n",
       "      <td>1</td>\n",
       "      <td>120</td>\n",
       "      <td>236</td>\n",
       "      <td>0</td>\n",
       "      <td>1</td>\n",
       "      <td>178</td>\n",
       "      <td>0</td>\n",
       "      <td>0.8</td>\n",
       "      <td>2</td>\n",
       "      <td>0</td>\n",
       "      <td>2</td>\n",
       "      <td>1</td>\n",
       "    </tr>\n",
       "    <tr>\n",
       "      <th>4</th>\n",
       "      <td>57</td>\n",
       "      <td>0</td>\n",
       "      <td>0</td>\n",
       "      <td>120</td>\n",
       "      <td>354</td>\n",
       "      <td>0</td>\n",
       "      <td>1</td>\n",
       "      <td>163</td>\n",
       "      <td>1</td>\n",
       "      <td>0.6</td>\n",
       "      <td>2</td>\n",
       "      <td>0</td>\n",
       "      <td>2</td>\n",
       "      <td>1</td>\n",
       "    </tr>\n",
       "  </tbody>\n",
       "</table>\n",
       "</div>"
      ],
      "text/plain": [
       "   age  sex  cp  trestbps  chol  fbs  restecg  thalach  exang  oldpeak  slope  \\\n",
       "0   63    1   3       145   233    1        0      150      0      2.3      0   \n",
       "1   37    1   2       130   250    0        1      187      0      3.5      0   \n",
       "2   41    0   1       130   204    0        0      172      0      1.4      2   \n",
       "3   56    1   1       120   236    0        1      178      0      0.8      2   \n",
       "4   57    0   0       120   354    0        1      163      1      0.6      2   \n",
       "\n",
       "   ca  thal  target  \n",
       "0   0     1       1  \n",
       "1   0     2       1  \n",
       "2   0     2       1  \n",
       "3   0     2       1  \n",
       "4   0     2       1  "
      ]
     },
     "execution_count": 2,
     "metadata": {},
     "output_type": "execute_result"
    }
   ],
   "source": [
    "df = pd.read_csv('heart.csv')\n",
    "df.head()"
   ]
  },
  {
   "cell_type": "code",
   "execution_count": 3,
   "id": "2aabca5b-27ba-4861-bdd7-7a5f180c1dbb",
   "metadata": {},
   "outputs": [],
   "source": [
    "categorical_val = []\n",
    "continuous_val = []\n",
    "for col in df.columns:\n",
    "    if len(df[col].unique()) <= 10:\n",
    "        categorical_val.append(col)\n",
    "    else:\n",
    "        continuous_val.append(col)"
   ]
  },
  {
   "cell_type": "code",
   "execution_count": 4,
   "id": "01c512c0-2e78-49c8-9851-ace99586b204",
   "metadata": {},
   "outputs": [
    {
     "data": {
      "text/html": [
       "<div>\n",
       "<style scoped>\n",
       "    .dataframe tbody tr th:only-of-type {\n",
       "        vertical-align: middle;\n",
       "    }\n",
       "\n",
       "    .dataframe tbody tr th {\n",
       "        vertical-align: top;\n",
       "    }\n",
       "\n",
       "    .dataframe thead th {\n",
       "        text-align: right;\n",
       "    }\n",
       "</style>\n",
       "<table border=\"1\" class=\"dataframe\">\n",
       "  <thead>\n",
       "    <tr style=\"text-align: right;\">\n",
       "      <th></th>\n",
       "      <th>age</th>\n",
       "      <th>trestbps</th>\n",
       "      <th>chol</th>\n",
       "      <th>thalach</th>\n",
       "      <th>oldpeak</th>\n",
       "      <th>target</th>\n",
       "      <th>sex_0</th>\n",
       "      <th>sex_1</th>\n",
       "      <th>cp_0</th>\n",
       "      <th>cp_1</th>\n",
       "      <th>...</th>\n",
       "      <th>slope_2</th>\n",
       "      <th>ca_0</th>\n",
       "      <th>ca_1</th>\n",
       "      <th>ca_2</th>\n",
       "      <th>ca_3</th>\n",
       "      <th>ca_4</th>\n",
       "      <th>thal_0</th>\n",
       "      <th>thal_1</th>\n",
       "      <th>thal_2</th>\n",
       "      <th>thal_3</th>\n",
       "    </tr>\n",
       "  </thead>\n",
       "  <tbody>\n",
       "    <tr>\n",
       "      <th>0</th>\n",
       "      <td>63</td>\n",
       "      <td>145</td>\n",
       "      <td>233</td>\n",
       "      <td>150</td>\n",
       "      <td>2.3</td>\n",
       "      <td>1</td>\n",
       "      <td>0</td>\n",
       "      <td>1</td>\n",
       "      <td>0</td>\n",
       "      <td>0</td>\n",
       "      <td>...</td>\n",
       "      <td>0</td>\n",
       "      <td>1</td>\n",
       "      <td>0</td>\n",
       "      <td>0</td>\n",
       "      <td>0</td>\n",
       "      <td>0</td>\n",
       "      <td>0</td>\n",
       "      <td>1</td>\n",
       "      <td>0</td>\n",
       "      <td>0</td>\n",
       "    </tr>\n",
       "    <tr>\n",
       "      <th>1</th>\n",
       "      <td>37</td>\n",
       "      <td>130</td>\n",
       "      <td>250</td>\n",
       "      <td>187</td>\n",
       "      <td>3.5</td>\n",
       "      <td>1</td>\n",
       "      <td>0</td>\n",
       "      <td>1</td>\n",
       "      <td>0</td>\n",
       "      <td>0</td>\n",
       "      <td>...</td>\n",
       "      <td>0</td>\n",
       "      <td>1</td>\n",
       "      <td>0</td>\n",
       "      <td>0</td>\n",
       "      <td>0</td>\n",
       "      <td>0</td>\n",
       "      <td>0</td>\n",
       "      <td>0</td>\n",
       "      <td>1</td>\n",
       "      <td>0</td>\n",
       "    </tr>\n",
       "    <tr>\n",
       "      <th>2</th>\n",
       "      <td>41</td>\n",
       "      <td>130</td>\n",
       "      <td>204</td>\n",
       "      <td>172</td>\n",
       "      <td>1.4</td>\n",
       "      <td>1</td>\n",
       "      <td>1</td>\n",
       "      <td>0</td>\n",
       "      <td>0</td>\n",
       "      <td>1</td>\n",
       "      <td>...</td>\n",
       "      <td>1</td>\n",
       "      <td>1</td>\n",
       "      <td>0</td>\n",
       "      <td>0</td>\n",
       "      <td>0</td>\n",
       "      <td>0</td>\n",
       "      <td>0</td>\n",
       "      <td>0</td>\n",
       "      <td>1</td>\n",
       "      <td>0</td>\n",
       "    </tr>\n",
       "    <tr>\n",
       "      <th>3</th>\n",
       "      <td>56</td>\n",
       "      <td>120</td>\n",
       "      <td>236</td>\n",
       "      <td>178</td>\n",
       "      <td>0.8</td>\n",
       "      <td>1</td>\n",
       "      <td>0</td>\n",
       "      <td>1</td>\n",
       "      <td>0</td>\n",
       "      <td>1</td>\n",
       "      <td>...</td>\n",
       "      <td>1</td>\n",
       "      <td>1</td>\n",
       "      <td>0</td>\n",
       "      <td>0</td>\n",
       "      <td>0</td>\n",
       "      <td>0</td>\n",
       "      <td>0</td>\n",
       "      <td>0</td>\n",
       "      <td>1</td>\n",
       "      <td>0</td>\n",
       "    </tr>\n",
       "    <tr>\n",
       "      <th>4</th>\n",
       "      <td>57</td>\n",
       "      <td>120</td>\n",
       "      <td>354</td>\n",
       "      <td>163</td>\n",
       "      <td>0.6</td>\n",
       "      <td>1</td>\n",
       "      <td>1</td>\n",
       "      <td>0</td>\n",
       "      <td>1</td>\n",
       "      <td>0</td>\n",
       "      <td>...</td>\n",
       "      <td>1</td>\n",
       "      <td>1</td>\n",
       "      <td>0</td>\n",
       "      <td>0</td>\n",
       "      <td>0</td>\n",
       "      <td>0</td>\n",
       "      <td>0</td>\n",
       "      <td>0</td>\n",
       "      <td>1</td>\n",
       "      <td>0</td>\n",
       "    </tr>\n",
       "  </tbody>\n",
       "</table>\n",
       "<p>5 rows × 31 columns</p>\n",
       "</div>"
      ],
      "text/plain": [
       "   age  trestbps  chol  thalach  oldpeak  target  sex_0  sex_1  cp_0  cp_1  \\\n",
       "0   63       145   233      150      2.3       1      0      1     0     0   \n",
       "1   37       130   250      187      3.5       1      0      1     0     0   \n",
       "2   41       130   204      172      1.4       1      1      0     0     1   \n",
       "3   56       120   236      178      0.8       1      0      1     0     1   \n",
       "4   57       120   354      163      0.6       1      1      0     1     0   \n",
       "\n",
       "   ...  slope_2  ca_0  ca_1  ca_2  ca_3  ca_4  thal_0  thal_1  thal_2  thal_3  \n",
       "0  ...        0     1     0     0     0     0       0       1       0       0  \n",
       "1  ...        0     1     0     0     0     0       0       0       1       0  \n",
       "2  ...        1     1     0     0     0     0       0       0       1       0  \n",
       "3  ...        1     1     0     0     0     0       0       0       1       0  \n",
       "4  ...        1     1     0     0     0     0       0       0       1       0  \n",
       "\n",
       "[5 rows x 31 columns]"
      ]
     },
     "execution_count": 4,
     "metadata": {},
     "output_type": "execute_result"
    }
   ],
   "source": [
    "categorical_val.remove('target')\n",
    "dataset = pd.get_dummies(df, columns = categorical_val)\n",
    "dataset.head()"
   ]
  },
  {
   "cell_type": "code",
   "execution_count": 5,
   "id": "6bf5bbd3-7df0-447d-8467-10970f01549c",
   "metadata": {},
   "outputs": [],
   "source": [
    "from sklearn.preprocessing import StandardScaler\n",
    "\n",
    "s_sc = StandardScaler()\n",
    "col_to_scale = ['age', 'trestbps', 'chol', 'thalach', 'oldpeak']\n",
    "dataset[col_to_scale] = s_sc.fit_transform(dataset[col_to_scale])"
   ]
  },
  {
   "cell_type": "code",
   "execution_count": 6,
   "id": "5837ab07-a826-45a0-8557-8814362bffc2",
   "metadata": {},
   "outputs": [],
   "source": [
    "from sklearn.metrics import accuracy_score, confusion_matrix, classification_report\n",
    "\n",
    "def print_score(clf, x_train, y_train, x_test, y_test, train):\n",
    "    if train == True:\n",
    "        pred = clf.predict(x_train)\n",
    "        clf_report = pd.DataFrame(classification_report(y_train, pred, output_dict=True))\n",
    "        print(f'Accuracy Score: {accuracy_score(y_train, pred) * 100:.4f}%')\n",
    "        print('______________________________________________________________________')\n",
    "        print(f'Classification Report:\\n{clf_report}')\n",
    "#         print('______________________________________________________________________')\n",
    "#         print(f'Confusion Matrix: \\n {confusion_matrix(y_train, pred)}\\n')\n",
    "    elif train == False:\n",
    "        pred = clf.predict(x_test)\n",
    "        clf_report = pd.DataFrame(classification_report(y_test, pred, output_dict=True))\n",
    "        print(f'Accuracy Score: {accuracy_score(y_test, pred) * 100:.4f}%')\n",
    "        print('______________________________________________________________________')\n",
    "        print(f'Classification Report:\\n{clf_report}')\n",
    "#         print('______________________________________________________________________')\n",
    "#         print(f'Confusion Matrix: \\n {confusion_matrix(y_test, pred)}\\n')"
   ]
  },
  {
   "cell_type": "code",
   "execution_count": 7,
   "id": "909c0ae5-b68d-4727-81cb-645b306b8a22",
   "metadata": {},
   "outputs": [],
   "source": [
    "from sklearn.model_selection import train_test_split\n",
    "\n",
    "x = dataset.drop('target', axis=1)\n",
    "y = dataset.target\n",
    "x_train, x_test, y_train, y_test = train_test_split(x, y, test_size=0.3, random_state=42)"
   ]
  },
  {
   "cell_type": "markdown",
   "id": "875596ee-453d-4841-b139-7a6895636220",
   "metadata": {},
   "source": [
    "### 1. Logistic regression"
   ]
  },
  {
   "cell_type": "markdown",
   "id": "75cb2513-a92d-443d-8e60-80a19aab817b",
   "metadata": {},
   "source": [
    "#### 1.1. Non hyperparameter tuning"
   ]
  },
  {
   "cell_type": "code",
   "execution_count": 8,
   "id": "5cc470c8-de76-4c5e-a439-1d06f3126185",
   "metadata": {},
   "outputs": [],
   "source": [
    "from sklearn.linear_model import LogisticRegression\n",
    "\n",
    "lr_clf = LogisticRegression(solver='liblinear').fit(x_train, y_train)"
   ]
  },
  {
   "cell_type": "code",
   "execution_count": 9,
   "id": "70b0ded3-3737-461b-aa4b-de299d9ad940",
   "metadata": {},
   "outputs": [
    {
     "name": "stdout",
     "output_type": "stream",
     "text": [
      "Accuracy Score: 86.7925%\n",
      "______________________________________________________________________\n",
      "Classification Report:\n",
      "                   0           1  accuracy   macro avg  weighted avg\n",
      "precision   0.879121    0.859504  0.867925    0.869313      0.868480\n",
      "recall      0.824742    0.904348  0.867925    0.864545      0.867925\n",
      "f1-score    0.851064    0.881356  0.867925    0.866210      0.867496\n",
      "support    97.000000  115.000000  0.867925  212.000000    212.000000\n"
     ]
    }
   ],
   "source": [
    "print_score(lr_clf, x_train, y_train, x_test, y_test, train=True)"
   ]
  },
  {
   "cell_type": "code",
   "execution_count": 10,
   "id": "bf796a3a-ba12-4728-811b-35784d03814a",
   "metadata": {},
   "outputs": [
    {
     "name": "stdout",
     "output_type": "stream",
     "text": [
      "Accuracy Score: 86.8132%\n",
      "______________________________________________________________________\n",
      "Classification Report:\n",
      "                   0          1  accuracy  macro avg  weighted avg\n",
      "precision   0.871795   0.865385  0.868132   0.868590      0.868273\n",
      "recall      0.829268   0.900000  0.868132   0.864634      0.868132\n",
      "f1-score    0.850000   0.882353  0.868132   0.866176      0.867776\n",
      "support    41.000000  50.000000  0.868132  91.000000     91.000000\n"
     ]
    }
   ],
   "source": [
    "print_score(lr_clf, x_train, y_train, x_test, y_test, train=False)"
   ]
  },
  {
   "cell_type": "markdown",
   "id": "8762acd1-477e-4cb2-97a2-0de5bf6bd32e",
   "metadata": {},
   "source": [
    "#### 1.2. Using hyperparameter tuning"
   ]
  },
  {
   "cell_type": "code",
   "execution_count": 11,
   "id": "1a76c018-a581-4224-ae25-4dc8c5ea2c36",
   "metadata": {},
   "outputs": [
    {
     "name": "stdout",
     "output_type": "stream",
     "text": [
      "Fitting 5 folds for each of 20 candidates, totalling 100 fits\n"
     ]
    },
    {
     "data": {
      "text/plain": [
       "{'C': 0.2069138081114788, 'solver': 'liblinear'}"
      ]
     },
     "execution_count": 11,
     "metadata": {},
     "output_type": "execute_result"
    }
   ],
   "source": [
    "from sklearn.model_selection import GridSearchCV\n",
    "\n",
    "params = {'C': np.logspace(-4, 5, 20), 'solver': ['liblinear']}\n",
    "lr_cv = GridSearchCV(LogisticRegression(), params, scoring='accuracy', n_jobs=1, verbose=1, cv=5)\n",
    "lr_cv.fit(x_train, y_train)\n",
    "lr_cv.best_params_"
   ]
  },
  {
   "cell_type": "code",
   "execution_count": 12,
   "id": "80cf05d5-7be6-4b82-89cb-077474197dc2",
   "metadata": {},
   "outputs": [],
   "source": [
    "lr_clf_tuning = LogisticRegression(**lr_cv.best_params_).fit(x_train, y_train)"
   ]
  },
  {
   "cell_type": "code",
   "execution_count": 13,
   "id": "c2d306a5-0b14-40ea-9a6d-8cf78215dfc3",
   "metadata": {},
   "outputs": [
    {
     "name": "stdout",
     "output_type": "stream",
     "text": [
      "Accuracy Score: 85.8491%\n",
      "______________________________________________________________________\n",
      "Classification Report:\n",
      "                   0           1  accuracy   macro avg  weighted avg\n",
      "precision   0.860215    0.857143  0.858491    0.858679      0.858549\n",
      "recall      0.824742    0.886957  0.858491    0.855849      0.858491\n",
      "f1-score    0.842105    0.871795  0.858491    0.856950      0.858210\n",
      "support    97.000000  115.000000  0.858491  212.000000    212.000000\n"
     ]
    }
   ],
   "source": [
    "print_score(lr_clf_tuning, x_train, y_train, x_test, y_test, train=True)"
   ]
  },
  {
   "cell_type": "code",
   "execution_count": 14,
   "id": "7662d45a-2b63-4059-8207-8e03e7eb838d",
   "metadata": {
    "tags": []
   },
   "outputs": [
    {
     "name": "stdout",
     "output_type": "stream",
     "text": [
      "Accuracy Score: 85.7143%\n",
      "______________________________________________________________________\n",
      "Classification Report:\n",
      "                   0          1  accuracy  macro avg  weighted avg\n",
      "precision   0.850000   0.862745  0.857143   0.856373      0.857003\n",
      "recall      0.829268   0.880000  0.857143   0.854634      0.857143\n",
      "f1-score    0.839506   0.871287  0.857143   0.855397      0.856968\n",
      "support    41.000000  50.000000  0.857143  91.000000     91.000000\n"
     ]
    }
   ],
   "source": [
    "print_score(lr_clf_tuning, x_train, y_train, x_test, y_test, train=False)"
   ]
  },
  {
   "cell_type": "code",
   "execution_count": 34,
   "id": "0a486666-8fad-483c-9951-a986df91ab5f",
   "metadata": {
    "tags": []
   },
   "outputs": [
    {
     "data": {
      "text/html": [
       "<div>\n",
       "<style scoped>\n",
       "    .dataframe tbody tr th:only-of-type {\n",
       "        vertical-align: middle;\n",
       "    }\n",
       "\n",
       "    .dataframe tbody tr th {\n",
       "        vertical-align: top;\n",
       "    }\n",
       "\n",
       "    .dataframe thead th {\n",
       "        text-align: right;\n",
       "    }\n",
       "</style>\n",
       "<table border=\"1\" class=\"dataframe\">\n",
       "  <thead>\n",
       "    <tr style=\"text-align: right;\">\n",
       "      <th></th>\n",
       "      <th>Model</th>\n",
       "      <th>Non-tuning train accuracy %</th>\n",
       "      <th>Tuning train accuracy %</th>\n",
       "      <th>Non-tuning test accuracy %</th>\n",
       "      <th>Tuning test accuracy %</th>\n",
       "    </tr>\n",
       "  </thead>\n",
       "  <tbody>\n",
       "    <tr>\n",
       "      <th>0</th>\n",
       "      <td>Logistic regression</td>\n",
       "      <td>86.792453</td>\n",
       "      <td>85.849057</td>\n",
       "      <td>86.813187</td>\n",
       "      <td>85.714286</td>\n",
       "    </tr>\n",
       "  </tbody>\n",
       "</table>\n",
       "</div>"
      ],
      "text/plain": [
       "                 Model  Non-tuning train accuracy %  Tuning train accuracy %  \\\n",
       "0  Logistic regression                    86.792453                85.849057   \n",
       "\n",
       "   Non-tuning test accuracy %  Tuning test accuracy %  \n",
       "0                   86.813187               85.714286  "
      ]
     },
     "execution_count": 34,
     "metadata": {},
     "output_type": "execute_result"
    }
   ],
   "source": [
    "lr_clf_train = accuracy_score(y_train, lr_clf.predict(x_train)) * 100\n",
    "lr_clf_test = accuracy_score(y_test, lr_clf.predict(x_test)) * 100\n",
    "lr_clf_tuning_train = accuracy_score(y_train, lr_clf_tuning.predict(x_train)) * 100\n",
    "lr_clf_tuning_test = accuracy_score(y_test, lr_clf_tuning.predict(x_test)) * 100\n",
    "\n",
    "result = pd.DataFrame(columns=['Model', 'Non-tuning train accuracy %', 'Tuning train accuracy %', 'Non-tuning test accuracy %', 'Tuning test accuracy %'])\n",
    "lr_result = pd.DataFrame(data=[['Logistic regression', lr_clf_train, lr_clf_tuning_train, lr_clf_test, lr_clf_tuning_test]],\n",
    "                        columns=['Model', 'Non-tuning train accuracy %', 'Tuning train accuracy %', 'Non-tuning test accuracy %', 'Tuning test accuracy %'])\n",
    "result = result.append(lr_result, ignore_index=True)\n",
    "result"
   ]
  },
  {
   "cell_type": "markdown",
   "id": "e87cf344-66a6-4502-b52d-fee103cec372",
   "metadata": {},
   "source": [
    "### 2. K-nearest neighbors"
   ]
  },
  {
   "cell_type": "markdown",
   "id": "4ba5d5e1-d210-4a24-970a-c7f9a99afbe6",
   "metadata": {},
   "source": [
    "#### 2.1. Non hyperparameter tuning"
   ]
  },
  {
   "cell_type": "code",
   "execution_count": 35,
   "id": "fb13418c-f0b1-4bfb-b4f8-31862da922a9",
   "metadata": {},
   "outputs": [],
   "source": [
    "from sklearn.neighbors import KNeighborsClassifier\n",
    "\n",
    "knn_clf = KNeighborsClassifier().fit(x_train, y_train)"
   ]
  },
  {
   "cell_type": "code",
   "execution_count": 36,
   "id": "d256fec8-2bb3-4082-9b62-1ea5e311cb48",
   "metadata": {},
   "outputs": [
    {
     "name": "stdout",
     "output_type": "stream",
     "text": [
      "Accuracy Score: 86.7925%\n",
      "______________________________________________________________________\n",
      "Classification Report:\n",
      "                   0           1  accuracy   macro avg  weighted avg\n",
      "precision   0.863158    0.871795  0.867925    0.867476      0.867843\n",
      "recall      0.845361    0.886957  0.867925    0.866159      0.867925\n",
      "f1-score    0.854167    0.879310  0.867925    0.866739      0.867806\n",
      "support    97.000000  115.000000  0.867925  212.000000    212.000000\n"
     ]
    }
   ],
   "source": [
    "print_score(knn_clf, x_train, y_train, x_test, y_test, train=True)"
   ]
  },
  {
   "cell_type": "code",
   "execution_count": 37,
   "id": "3db29351-80d2-4436-a2da-a0fa6adaa4f3",
   "metadata": {
    "tags": []
   },
   "outputs": [
    {
     "name": "stdout",
     "output_type": "stream",
     "text": [
      "Accuracy Score: 86.8132%\n",
      "______________________________________________________________________\n",
      "Classification Report:\n",
      "                   0      1  accuracy  macro avg  weighted avg\n",
      "precision   0.853659   0.88  0.868132   0.866829      0.868132\n",
      "recall      0.853659   0.88  0.868132   0.866829      0.868132\n",
      "f1-score    0.853659   0.88  0.868132   0.866829      0.868132\n",
      "support    41.000000  50.00  0.868132  91.000000     91.000000\n"
     ]
    }
   ],
   "source": [
    "print_score(knn_clf, x_train, y_train, x_test, y_test, train=False)"
   ]
  },
  {
   "cell_type": "markdown",
   "id": "0ab755cf-b819-4b44-8fa1-d456ce3d4364",
   "metadata": {},
   "source": [
    "#### 2.2. Using hyperparameter tuning"
   ]
  },
  {
   "cell_type": "code",
   "execution_count": 38,
   "id": "eba1dce6-ad08-44d2-ac30-e93e45a1d1e3",
   "metadata": {},
   "outputs": [],
   "source": [
    "train_score = []\n",
    "test_score = []\n",
    "neighbors = range(1, 30)\n",
    "\n",
    "for k in neighbors:\n",
    "    model = KNeighborsClassifier(n_neighbors=k)\n",
    "    model.fit(x_train, y_train)\n",
    "    train_score.append(accuracy_score(y_train, model.predict(x_train)))\n",
    "#     test_score.append(accuracy_score(y_test, model.predict(x_test)))"
   ]
  },
  {
   "cell_type": "code",
   "execution_count": 39,
   "id": "840a8a5f-8a00-4327-ba02-e4a1059442df",
   "metadata": {},
   "outputs": [
    {
     "name": "stdout",
     "output_type": "stream",
     "text": [
      "Maximum KNN score on the test data: 100.00%\n"
     ]
    },
    {
     "data": {
      "image/png": "[encoded data removed]",
      "text/plain": [
       "<Figure size 576x432 with 1 Axes>"
      ]
     },
     "metadata": {
      "needs_background": "light"
     },
     "output_type": "display_data"
    }
   ],
   "source": [
    "plt.figure(figsize=(8,6))\n",
    "\n",
    "plt.plot(neighbors, train_score, label=\"Train score\")\n",
    "# plt.plot(neighbors, test_score, label=\"Test score\")\n",
    "plt.xticks(np.arange(1, 21, 1))\n",
    "plt.xlabel(\"Number of neighbors\")\n",
    "plt.ylabel(\"Model score\")\n",
    "plt.legend()\n",
    "\n",
    "print(f\"Maximum KNN score on the test data: {max(train_score)*100:.2f}%\")"
   ]
  },
  {
   "cell_type": "code",
   "execution_count": 40,
   "id": "930888cb-a74a-4fce-8b0f-01f7548a4436",
   "metadata": {},
   "outputs": [],
   "source": [
    "knn_clf_tuning = KNeighborsClassifier(n_neighbors=27).fit(x_train, y_train)"
   ]
  },
  {
   "cell_type": "code",
   "execution_count": 41,
   "id": "138c8eb5-4664-4283-91b4-f1ac3297e0ea",
   "metadata": {},
   "outputs": [
    {
     "name": "stdout",
     "output_type": "stream",
     "text": [
      "Accuracy Score: 81.1321%\n",
      "______________________________________________________________________\n",
      "Classification Report:\n",
      "                   0           1  accuracy   macro avg  weighted avg\n",
      "precision   0.835294    0.795276  0.811321    0.815285      0.813586\n",
      "recall      0.731959    0.878261  0.811321    0.805110      0.811321\n",
      "f1-score    0.780220    0.834711  0.811321    0.807465      0.809779\n",
      "support    97.000000  115.000000  0.811321  212.000000    212.000000\n"
     ]
    }
   ],
   "source": [
    "print_score(knn_clf_tuning, x_train, y_train, x_test, y_test, train=True)"
   ]
  },
  {
   "cell_type": "code",
   "execution_count": 42,
   "id": "a34c1751-f960-45f2-af0c-a1e0c522f4f7",
   "metadata": {},
   "outputs": [
    {
     "name": "stdout",
     "output_type": "stream",
     "text": [
      "Accuracy Score: 87.9121%\n",
      "______________________________________________________________________\n",
      "Classification Report:\n",
      "                   0          1  accuracy  macro avg  weighted avg\n",
      "precision   0.894737   0.867925  0.879121   0.881331      0.880005\n",
      "recall      0.829268   0.920000  0.879121   0.874634      0.879121\n",
      "f1-score    0.860759   0.893204  0.879121   0.876982      0.878586\n",
      "support    41.000000  50.000000  0.879121  91.000000     91.000000\n"
     ]
    }
   ],
   "source": [
    "print_score(knn_clf_tuning, x_train, y_train, x_test, y_test, train=False)"
   ]
  },
  {
   "cell_type": "code",
   "execution_count": 43,
   "id": "f25cda62-82fa-4c4c-850d-db781bf2fdc6",
   "metadata": {},
   "outputs": [
    {
     "data": {
      "text/html": [
       "<div>\n",
       "<style scoped>\n",
       "    .dataframe tbody tr th:only-of-type {\n",
       "        vertical-align: middle;\n",
       "    }\n",
       "\n",
       "    .dataframe tbody tr th {\n",
       "        vertical-align: top;\n",
       "    }\n",
       "\n",
       "    .dataframe thead th {\n",
       "        text-align: right;\n",
       "    }\n",
       "</style>\n",
       "<table border=\"1\" class=\"dataframe\">\n",
       "  <thead>\n",
       "    <tr style=\"text-align: right;\">\n",
       "      <th></th>\n",
       "      <th>Model</th>\n",
       "      <th>Non-tuning train accuracy %</th>\n",
       "      <th>Tuning train accuracy %</th>\n",
       "      <th>Non-tuning test accuracy %</th>\n",
       "      <th>Tuning test accuracy %</th>\n",
       "    </tr>\n",
       "  </thead>\n",
       "  <tbody>\n",
       "    <tr>\n",
       "      <th>0</th>\n",
       "      <td>Logistic regression</td>\n",
       "      <td>86.792453</td>\n",
       "      <td>85.849057</td>\n",
       "      <td>86.813187</td>\n",
       "      <td>85.714286</td>\n",
       "    </tr>\n",
       "    <tr>\n",
       "      <th>1</th>\n",
       "      <td>K-nearest neighbors</td>\n",
       "      <td>86.792453</td>\n",
       "      <td>81.132075</td>\n",
       "      <td>86.813187</td>\n",
       "      <td>87.912088</td>\n",
       "    </tr>\n",
       "  </tbody>\n",
       "</table>\n",
       "</div>"
      ],
      "text/plain": [
       "                 Model  Non-tuning train accuracy %  Tuning train accuracy %  \\\n",
       "0  Logistic regression                    86.792453                85.849057   \n",
       "1  K-nearest neighbors                    86.792453                81.132075   \n",
       "\n",
       "   Non-tuning test accuracy %  Tuning test accuracy %  \n",
       "0                   86.813187               85.714286  \n",
       "1                   86.813187               87.912088  "
      ]
     },
     "execution_count": 43,
     "metadata": {},
     "output_type": "execute_result"
    }
   ],
   "source": [
    "knn_clf_test = accuracy_score(y_test, knn_clf.predict(x_test)) * 100\n",
    "knn_clf_train = accuracy_score(y_train, knn_clf.predict(x_train)) * 100\n",
    "knn_clf_tuning_test = accuracy_score(y_test, knn_clf_tuning.predict(x_test)) * 100\n",
    "knn_clf_tuning_train = accuracy_score(y_train, knn_clf_tuning.predict(x_train)) * 100\n",
    "\n",
    "knn_result = pd.DataFrame(data=[['K-nearest neighbors', knn_clf_train, knn_clf_tuning_train, knn_clf_test, knn_clf_tuning_test]],\n",
    "                        columns=['Model', 'Non-tuning train accuracy %', 'Tuning train accuracy %', 'Non-tuning test accuracy %', 'Tuning test accuracy %'])\n",
    "result = result.append(knn_result, ignore_index=True)\n",
    "result"
   ]
  },
  {
   "cell_type": "markdown",
   "id": "8793b6d7-03d0-4c0a-b60c-3ada904f023b",
   "metadata": {},
   "source": [
    "### Support vector machine"
   ]
  },
  {
   "cell_type": "code",
   "execution_count": 25,
   "id": "40574d59-8642-42c8-9489-fbc1cf9aed67",
   "metadata": {},
   "outputs": [],
   "source": [
    "from sklearn.svm import SVC\n",
    "\n",
    "svm_clf = SVC(kernel='rbf', gamma=0.1, C=1.0).fit(x_train, y_train)"
   ]
  },
  {
   "cell_type": "code",
   "execution_count": 26,
   "id": "5b6ffcbc-b6f4-4c38-bd1b-4a82a61b6182",
   "metadata": {},
   "outputs": [
    {
     "name": "stdout",
     "output_type": "stream",
     "text": [
      "Accuracy Score: 93.3962%\n",
      "______________________________________________________________________\n",
      "Classification Report:\n",
      "                   0           1  accuracy   macro avg  weighted avg\n",
      "precision   0.936842    0.931624  0.933962    0.934233      0.934011\n",
      "recall      0.917526    0.947826  0.933962    0.932676      0.933962\n",
      "f1-score    0.927083    0.939655  0.933962    0.933369      0.933903\n",
      "support    97.000000  115.000000  0.933962  212.000000    212.000000\n"
     ]
    }
   ],
   "source": [
    "print_score(svm_clf, x_train, y_train, x_test, y_test, train=True)"
   ]
  },
  {
   "cell_type": "code",
   "execution_count": 27,
   "id": "a02c9536-8d04-4313-ba68-7765d23a57bc",
   "metadata": {},
   "outputs": [
    {
     "name": "stdout",
     "output_type": "stream",
     "text": [
      "Accuracy Score: 87.9121%\n",
      "______________________________________________________________________\n",
      "Classification Report:\n",
      "                   0          1  accuracy  macro avg  weighted avg\n",
      "precision   0.857143   0.897959  0.879121   0.877551      0.879569\n",
      "recall      0.878049   0.880000  0.879121   0.879024      0.879121\n",
      "f1-score    0.867470   0.888889  0.879121   0.878179      0.879239\n",
      "support    41.000000  50.000000  0.879121  91.000000     91.000000\n"
     ]
    }
   ],
   "source": [
    "print_score(svm_clf, x_train, y_train, x_test, y_test, train=False)"
   ]
  },
  {
   "cell_type": "markdown",
   "id": "2cc18a81-5bd9-4979-b490-b0e8a269af4b",
   "metadata": {},
   "source": [
    "### Decision tree classifier"
   ]
  },
  {
   "cell_type": "code",
   "execution_count": 28,
   "id": "04e7daf3-fb9c-4008-b730-e9658200d258",
   "metadata": {},
   "outputs": [],
   "source": [
    "from sklearn.tree import DecisionTreeClassifier\n",
    "\n",
    "tree_clf = DecisionTreeClassifier(random_state=42).fit(x_train, y_train)"
   ]
  },
  {
   "cell_type": "code",
   "execution_count": 29,
   "id": "44d30ba0-f99a-4825-855f-8435b5710cf9",
   "metadata": {},
   "outputs": [
    {
     "name": "stdout",
     "output_type": "stream",
     "text": [
      "Accuracy Score: 100.0000%\n",
      "______________________________________________________________________\n",
      "Classification Report:\n",
      "              0      1  accuracy  macro avg  weighted avg\n",
      "precision   1.0    1.0       1.0        1.0           1.0\n",
      "recall      1.0    1.0       1.0        1.0           1.0\n",
      "f1-score    1.0    1.0       1.0        1.0           1.0\n",
      "support    97.0  115.0       1.0      212.0         212.0\n"
     ]
    }
   ],
   "source": [
    "print_score(tree_clf, x_train, y_train, x_test, y_test, train=True)"
   ]
  },
  {
   "cell_type": "code",
   "execution_count": 30,
   "id": "121449ca-8600-49a9-ab29-4aedb2aecfdb",
   "metadata": {},
   "outputs": [
    {
     "name": "stdout",
     "output_type": "stream",
     "text": [
      "Accuracy Score: 78.0220%\n",
      "______________________________________________________________________\n",
      "Classification Report:\n",
      "                   0          1  accuracy  macro avg  weighted avg\n",
      "precision   0.723404   0.840909   0.78022   0.782157      0.787967\n",
      "recall      0.829268   0.740000   0.78022   0.784634      0.780220\n",
      "f1-score    0.772727   0.787234   0.78022   0.779981      0.780698\n",
      "support    41.000000  50.000000   0.78022  91.000000     91.000000\n"
     ]
    }
   ],
   "source": [
    "print_score(tree_clf, x_train, y_train, x_test, y_test, train=False)"
   ]
  },
  {
   "cell_type": "markdown",
   "id": "2c9e6464-f4e8-49e8-bfef-11eaf2504864",
   "metadata": {},
   "source": [
    "### Random forest"
   ]
  },
  {
   "cell_type": "code",
   "execution_count": 1,
   "id": "cad383bd-e808-4eae-a2c3-703395236433",
   "metadata": {},
   "outputs": [
    {
     "ename": "NameError",
     "evalue": "name 'x_train' is not defined",
     "output_type": "error",
     "traceback": [
      "\u001b[0;31m---------------------------------------------------------------------------\u001b[0m",
      "\u001b[0;31mNameError\u001b[0m                                 Traceback (most recent call last)",
      "\u001b[0;32m<ipython-input-1-6b95f8b1491b>\u001b[0m in \u001b[0;36m<module>\u001b[0;34m\u001b[0m\n\u001b[1;32m      2\u001b[0m \u001b[0;32mfrom\u001b[0m \u001b[0msklearn\u001b[0m\u001b[0;34m.\u001b[0m\u001b[0mmodel_selection\u001b[0m \u001b[0;32mimport\u001b[0m \u001b[0mRandomizedSearchCV\u001b[0m\u001b[0;34m\u001b[0m\u001b[0;34m\u001b[0m\u001b[0m\n\u001b[1;32m      3\u001b[0m \u001b[0;34m\u001b[0m\u001b[0m\n\u001b[0;32m----> 4\u001b[0;31m \u001b[0mrf_clf\u001b[0m \u001b[0;34m=\u001b[0m \u001b[0mRandomForestClassifier\u001b[0m\u001b[0;34m(\u001b[0m\u001b[0mn_estimators\u001b[0m\u001b[0;34m=\u001b[0m\u001b[0;36m1000\u001b[0m\u001b[0;34m,\u001b[0m \u001b[0mrandom_state\u001b[0m\u001b[0;34m=\u001b[0m\u001b[0;36m42\u001b[0m\u001b[0;34m)\u001b[0m\u001b[0;34m.\u001b[0m\u001b[0mfit\u001b[0m\u001b[0;34m(\u001b[0m\u001b[0mx_train\u001b[0m\u001b[0;34m,\u001b[0m \u001b[0my_train\u001b[0m\u001b[0;34m)\u001b[0m\u001b[0;34m\u001b[0m\u001b[0;34m\u001b[0m\u001b[0m\n\u001b[0m",
      "\u001b[0;31mNameError\u001b[0m: name 'x_train' is not defined"
     ]
    }
   ],
   "source": [
    "from sklearn.ensemble import RandomForestClassifier\n",
    "# from sklearn.model_selection import RandomizedSearchCV\n",
    "\n",
    "rf_clf = RandomForestClassifier(n_estimators=1000, random_state=42).fit(x_train, y_train)"
   ]
  },
  {
   "cell_type": "code",
   "execution_count": 32,
   "id": "3a8d842b-fbe3-41f5-9ff3-d90c900fa30a",
   "metadata": {},
   "outputs": [
    {
     "name": "stdout",
     "output_type": "stream",
     "text": [
      "Accuracy Score: 100.0000%\n",
      "______________________________________________________________________\n",
      "Classification Report:\n",
      "              0      1  accuracy  macro avg  weighted avg\n",
      "precision   1.0    1.0       1.0        1.0           1.0\n",
      "recall      1.0    1.0       1.0        1.0           1.0\n",
      "f1-score    1.0    1.0       1.0        1.0           1.0\n",
      "support    97.0  115.0       1.0      212.0         212.0\n"
     ]
    }
   ],
   "source": [
    "print_score(rf_clf, x_train, y_train, x_test, y_test, train=True)"
   ]
  },
  {
   "cell_type": "code",
   "execution_count": 33,
   "id": "3bdfec3b-9821-49ab-acbe-ada1a600be1d",
   "metadata": {},
   "outputs": [
    {
     "name": "stdout",
     "output_type": "stream",
     "text": [
      "Accuracy Score: 82.4176%\n",
      "______________________________________________________________________\n",
      "Classification Report:\n",
      "                   0      1  accuracy  macro avg  weighted avg\n",
      "precision   0.804878   0.84  0.824176   0.822439      0.824176\n",
      "recall      0.804878   0.84  0.824176   0.822439      0.824176\n",
      "f1-score    0.804878   0.84  0.824176   0.822439      0.824176\n",
      "support    41.000000  50.00  0.824176  91.000000     91.000000\n"
     ]
    }
   ],
   "source": [
    "print_score(rf_clf, x_train, y_train, x_test, y_test, train=False)"
   ]
  },
  {
   "cell_type": "code",
   "execution_count": null,
   "id": "2380d958-b9aa-44ea-ae6b-e7d8ef72651f",
   "metadata": {},
   "outputs": [],
   "source": []
  }
 ],
 "metadata": {
  "kernelspec": {
   "display_name": "Python 3",
   "language": "python",
   "name": "python3"
  },
  "language_info": {
   "codemirror_mode": {
    "name": "ipython",
    "version": 3
   },
   "file_extension": ".py",
   "mimetype": "text/x-python",
   "name": "python",
   "nbconvert_exporter": "python",
   "pygments_lexer": "ipython3",
   "version": "3.9.5"
  }
 },
 "nbformat": 4,
 "nbformat_minor": 5
}
